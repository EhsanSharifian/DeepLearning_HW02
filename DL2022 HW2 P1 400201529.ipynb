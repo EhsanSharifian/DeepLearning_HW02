{
  "nbformat": 4,
  "nbformat_minor": 0,
  "metadata": {
    "colab": {
      "provenance": [],
      "collapsed_sections": [
        "M0F42qLEiFPQ",
        "MlN93LSAh_ir",
        "1IYU0B5aDc5f"
      ]
    },
    "kernelspec": {
      "name": "python3",
      "display_name": "Python 3"
    },
    "language_info": {
      "name": "python"
    }
  },
  "cells": [
    {
      "cell_type": "markdown",
      "source": [
        "# Deep Learning HW2 - Problem 1\n",
        "### Ehsan Sharifian 400201529\n",
        "\n",
        "---\n",
        "\n"
      ],
      "metadata": {
        "id": "v2rRW0VTiXx1"
      }
    },
    {
      "cell_type": "markdown",
      "source": [
        "## part a"
      ],
      "metadata": {
        "id": "M0F42qLEiFPQ"
      }
    },
    {
      "cell_type": "code",
      "execution_count": null,
      "metadata": {
        "id": "S8PAJECMwP5i"
      },
      "outputs": [],
      "source": [
        "import torch\n",
        "import numpy as np\n",
        "from torch.utils.data import Dataset\n",
        "from torchvision import datasets\n",
        "from torchvision.transforms import ToTensor, Lambda\n",
        "\n",
        "\n",
        "training_data = datasets.FashionMNIST(\n",
        "    root=\"data\", \n",
        "    train=True, \n",
        "    download=True,  \n",
        "    transform=ToTensor(),\n",
        "    target_transform=Lambda(lambda y: torch.zeros(10, dtype=torch.float).scatter_(dim=0, index=torch.tensor(y),value=1))                          \n",
        ")\n",
        "\n",
        "test_data = datasets.FashionMNIST(\n",
        "    root=\"data\",\n",
        "    train=False,\n",
        "    download=True,\n",
        "    transform=ToTensor(),\n",
        "    target_transform=Lambda(lambda y: torch.zeros(10, dtype=torch.float).scatter_(dim=0, index=torch.tensor(y),value=1))\n",
        ")"
      ]
    },
    {
      "cell_type": "code",
      "source": [
        "import matplotlib.pyplot as plt\n",
        "\n",
        "# Choosing random data in each class and visualizing it\n",
        "plt.figure(figsize=(15, 5))\n",
        "for i in range(len(training_data.classes)):\n",
        "  index_tensor = (training_data.targets == i).nonzero(as_tuple=True)[0]\n",
        "  random_index = index_tensor[torch.randint(len(index_tensor), (1,))][0]\n",
        "  img, label = training_data[random_index]\n",
        "  plt.subplot(2, 5, i+1)\n",
        "  plt.imshow(img.squeeze(), cmap=\"gray\")\n",
        "  plt.title(f\"Label: {i} - {training_data.classes[i]}\")\n",
        "  plt.axis(False)\n",
        "plt.show()"
      ],
      "metadata": {
        "colab": {
          "base_uri": "https://localhost:8080/",
          "height": 319
        },
        "id": "ZibG1u4XiWT0",
        "outputId": "2d95c0e5-b1ec-4d1b-eed1-8ce177ae557e"
      },
      "execution_count": null,
      "outputs": [
        {
          "output_type": "display_data",
          "data": {
            "text/plain": [
              "<Figure size 1080x360 with 10 Axes>"
            ],
            "image/png": "[encoded data removed]"
          },
          "metadata": {
            "needs_background": "light"
          }
        }
      ]
    },
    {
      "cell_type": "markdown",
      "source": [
        "## part b"
      ],
      "metadata": {
        "id": "MlN93LSAh_ir"
      }
    },
    {
      "cell_type": "code",
      "source": [
        "def SoftMax(X):\n",
        "    return torch.exp(X) / (torch.exp(X).sum(axis=1).reshape(-1,1))\n",
        "\n",
        "def ReLU(X):\n",
        "    return X * (X > 0)\n",
        "\n",
        "class FullyConnectedLayer():\n",
        "    def __init__(self, weights, biases, Activation=ReLU):\n",
        "        self.weights = weights\n",
        "        self.biases = biases\n",
        "        self.Activation = Activation\n",
        "\n",
        "    def output(self, X_Batch):\n",
        "        output = self.Activation(X_Batch.matmul(self.weights) + self.biases)\n",
        "        return output"
      ],
      "metadata": {
        "id": "LCZpIPA2jUmB"
      },
      "execution_count": null,
      "outputs": []
    },
    {
      "cell_type": "code",
      "source": [
        "def My_Flatten(X_Batch, input_size):\n",
        "    return X_Batch.reshape(-1, input_size).float()\n",
        "\n",
        "def Weight_Initialization(input_size,output_size):\n",
        "    return 1e-2*torch.randn((input_size,output_size), requires_grad=True)\n",
        "\n",
        "def Bias_Initialization(size):\n",
        "    return 1e-2*torch.randn((1,size), requires_grad=True)\n",
        "\n",
        "class My_Network():\n",
        "    def __init__(self):\n",
        "        self.input_size = 28*28\n",
        "        self.output_size = 10\n",
        "        self.leyer_num = 3\n",
        "        neuron_number_1 = 20\n",
        "        neuron_number_2 = 20\n",
        "        self.flatten = My_Flatten\n",
        "        self.linear1 = FullyConnectedLayer(Weight_Initialization(self.input_size,neuron_number_1),Bias_Initialization(neuron_number_1),ReLU)\n",
        "        self.linear2 = FullyConnectedLayer(Weight_Initialization(neuron_number_1,neuron_number_2),Bias_Initialization(neuron_number_2),ReLU)\n",
        "        self.linear3 = FullyConnectedLayer(Weight_Initialization(neuron_number_2,self.output_size),Bias_Initialization(self.output_size),SoftMax)\n",
        "        self.layers = [self.linear1,self.linear2,self.linear3]\n",
        "\n",
        "    def model(self, x):\n",
        "        x = self.flatten(x,self.input_size)\n",
        "        x = self.linear1.output(x)\n",
        "        x = self.linear2.output(x)\n",
        "        probs = self.linear3.output(x)\n",
        "        return probs\n",
        "\n",
        "network = My_Network()"
      ],
      "metadata": {
        "id": "XSwIbMk0o2ly"
      },
      "execution_count": null,
      "outputs": []
    },
    {
      "cell_type": "markdown",
      "source": [
        "## Part c"
      ],
      "metadata": {
        "id": "1IYU0B5aDc5f"
      }
    },
    {
      "cell_type": "code",
      "source": [
        "learning_rate = 1e-3\n",
        "batch_size = 64\n",
        "epochs = 10"
      ],
      "metadata": {
        "id": "cVYKowMpqe0Q"
      },
      "execution_count": null,
      "outputs": []
    },
    {
      "cell_type": "code",
      "source": [
        "def One_Hot_Transform(label_list):\n",
        "  one_hot_list = []\n",
        "  for i in range(len(label_list)):\n",
        "    one_hot_list.append(torch.zeros(10, dtype=torch.float).scatter_(dim=0, index=label_list[i],value=1))\n",
        "    \n",
        "  return torch.stack(one_hot_list,dim=0)\n",
        "\n",
        "\n",
        "class My_DataLoader():\n",
        "  def __init__(self,data, batch_size=64, shuffle=True):\n",
        "    self.size = len(data)\n",
        "    if (shuffle):\n",
        "      index_permuted = torch.randperm(self.size)\n",
        "      X_permuted = data.data[index_permuted]\n",
        "      y_permuted = data.targets[index_permuted] \n",
        "    batch_number = int(np.ceil(len(data)/batch_size))\n",
        "    DL = []\n",
        "    for batch in range(batch_number):\n",
        "      X = X_permuted[batch * batch_size : (batch + 1) * batch_size if  batch!=batch_number else self.size]\n",
        "      y = One_Hot_Transform(y_permuted[batch * batch_size : (batch + 1) * batch_size if  batch!=batch_number else self.size])\n",
        "      DL.append([X,y])\n",
        "\n",
        "    self.data = DL\n",
        "\n",
        "def Cross_Entropy(prob1,prob2):\n",
        "  return -torch.sum(torch.log(prob1) * prob2) / prob2.shape[0]"
      ],
      "metadata": {
        "id": "AagYBypAQh6k"
      },
      "execution_count": null,
      "outputs": []
    },
    {
      "cell_type": "code",
      "source": [
        "def train_loop(dataloader, network, loss_fn, lr):\n",
        "    size = dataloader.size\n",
        "    num_batches = len(dataloader.data)\n",
        "    train_loss, correct = 0, 0\n",
        "    for batch, (X, y) in enumerate(dataloader.data):\n",
        "        # Compute prediction and loss\n",
        "        pred = network.model(X)\n",
        "        loss = loss_fn(pred, y)\n",
        "        train_loss += loss.item()\n",
        "        correct += (pred.argmax(1) == y.argmax(1)).type(torch.float).sum().item()\n",
        "\n",
        "        for layer in network.layers:\n",
        "          layer.weights.retain_grad()\n",
        "          layer.biases.retain_grad()\n",
        "\n",
        "        # Backpropagation\n",
        "        loss.backward(retain_graph=True)\n",
        "        for layer in network.layers:\n",
        "          layer.weights = layer.weights - lr * layer.weights.grad\n",
        "          layer.biases = layer.biases - lr * layer.biases.grad\n",
        "        \n",
        "        if batch % 200 == 0:\n",
        "            loss, current = loss.item(), batch * len(X)\n",
        "            print(f\"loss: {loss:>7f}  [{current:>5d}/{size:>5d}]\")\n",
        "\n",
        "    train_loss /= num_batches\n",
        "    correct /= size\n",
        "    print(f\"Train Error: \\n Accuracy: {(100*correct):>0.1f}%, Avg loss: {train_loss:>8f} \\n\")\n",
        "\n",
        "def test_loop(dataloader, network, loss_fn):\n",
        "    size = dataloader.size\n",
        "    num_batches = len(dataloader.data)\n",
        "    test_loss, correct = 0, 0\n",
        "\n",
        "    with torch.no_grad():\n",
        "        for X, y in dataloader.data:\n",
        "            pred = network.model(X)\n",
        "            test_loss += loss_fn(pred, y).item()\n",
        "            correct += (pred.argmax(1) == y.argmax(1)).type(torch.float).sum().item()\n",
        "\n",
        "    test_loss /= num_batches\n",
        "    correct /= size\n",
        "    print(f\"Test Error: \\n Accuracy: {(100*correct):>0.1f}%, Avg loss: {test_loss:>8f} \\n\")"
      ],
      "metadata": {
        "id": "SwfdSdbsDjyH"
      },
      "execution_count": null,
      "outputs": []
    },
    {
      "cell_type": "code",
      "source": [
        "train_dataloader = My_DataLoader(training_data, batch_size, shuffle=True)\n",
        "test_dataloader = My_DataLoader(test_data, batch_size, shuffle=True)\n",
        "\n",
        "for t in range(epochs):\n",
        "    print(f\"Epoch {t+1}\\n-------------------------------\")\n",
        "    train_loop(train_dataloader, network, Cross_Entropy, learning_rate)\n",
        "    test_loop(test_dataloader, network, Cross_Entropy)\n",
        "print(\"Done!\")"
      ],
      "metadata": {
        "colab": {
          "base_uri": "https://localhost:8080/"
        },
        "id": "2E3qdc0IMRRf",
        "outputId": "5843b77c-a14a-4f89-caa9-9ddf278d1c0b"
      },
      "execution_count": null,
      "outputs": [
        {
          "output_type": "stream",
          "name": "stdout",
          "text": [
            "Epoch 1\n",
            "-------------------------------\n",
            "loss: 2.301496  [    0/60000]\n",
            "loss: 1.374265  [12800/60000]\n",
            "loss: 0.734374  [25600/60000]\n",
            "loss: 0.799095  [38400/60000]\n",
            "loss: 0.698600  [51200/60000]\n",
            "Train Error: \n",
            " Accuracy: 58.1%, Avg loss: 1.146353 \n",
            "\n",
            "Test Error: \n",
            " Accuracy: 71.5%, Avg loss: 0.753187 \n",
            "\n",
            "Epoch 2\n",
            "-------------------------------\n",
            "loss: 0.791250  [    0/60000]\n",
            "loss: 0.631461  [12800/60000]\n",
            "loss: 0.498604  [25600/60000]\n",
            "loss: 0.637960  [38400/60000]\n",
            "loss: 0.528912  [51200/60000]\n",
            "Train Error: \n",
            " Accuracy: 77.7%, Avg loss: 0.626143 \n",
            "\n",
            "Test Error: \n",
            " Accuracy: 77.6%, Avg loss: 0.610513 \n",
            "\n",
            "Epoch 3\n",
            "-------------------------------\n",
            "loss: 0.691696  [    0/60000]\n",
            "loss: 0.493405  [12800/60000]\n",
            "loss: 0.397181  [25600/60000]\n",
            "loss: 0.585652  [38400/60000]\n",
            "loss: 0.483742  [51200/60000]\n",
            "Train Error: \n",
            " Accuracy: 81.6%, Avg loss: 0.524111 \n",
            "\n",
            "Test Error: \n",
            " Accuracy: 79.2%, Avg loss: 0.560266 \n",
            "\n",
            "Epoch 4\n",
            "-------------------------------\n",
            "loss: 0.621878  [    0/60000]\n",
            "loss: 0.400761  [12800/60000]\n",
            "loss: 0.347006  [25600/60000]\n",
            "loss: 0.563414  [38400/60000]\n",
            "loss: 0.468635  [51200/60000]\n",
            "Train Error: \n",
            " Accuracy: 83.0%, Avg loss: 0.479621 \n",
            "\n",
            "Test Error: \n",
            " Accuracy: 80.6%, Avg loss: 0.526250 \n",
            "\n",
            "Epoch 5\n",
            "-------------------------------\n",
            "loss: 0.570065  [    0/60000]\n",
            "loss: 0.353809  [12800/60000]\n",
            "loss: 0.323939  [25600/60000]\n",
            "loss: 0.545715  [38400/60000]\n",
            "loss: 0.470086  [51200/60000]\n",
            "Train Error: \n",
            " Accuracy: 84.1%, Avg loss: 0.451335 \n",
            "\n",
            "Test Error: \n",
            " Accuracy: 81.6%, Avg loss: 0.502160 \n",
            "\n",
            "Epoch 6\n",
            "-------------------------------\n",
            "loss: 0.517223  [    0/60000]\n",
            "loss: 0.321972  [12800/60000]\n",
            "loss: 0.303705  [25600/60000]\n",
            "loss: 0.521500  [38400/60000]\n",
            "loss: 0.468849  [51200/60000]\n",
            "Train Error: \n",
            " Accuracy: 84.9%, Avg loss: 0.430520 \n",
            "\n",
            "Test Error: \n",
            " Accuracy: 82.2%, Avg loss: 0.484063 \n",
            "\n",
            "Epoch 7\n",
            "-------------------------------\n",
            "loss: 0.484912  [    0/60000]\n",
            "loss: 0.301617  [12800/60000]\n",
            "loss: 0.284644  [25600/60000]\n",
            "loss: 0.505685  [38400/60000]\n",
            "loss: 0.469037  [51200/60000]\n",
            "Train Error: \n",
            " Accuracy: 85.4%, Avg loss: 0.414425 \n",
            "\n",
            "Test Error: \n",
            " Accuracy: 82.7%, Avg loss: 0.473733 \n",
            "\n",
            "Epoch 8\n",
            "-------------------------------\n",
            "loss: 0.478063  [    0/60000]\n",
            "loss: 0.288743  [12800/60000]\n",
            "loss: 0.270280  [25600/60000]\n",
            "loss: 0.477469  [38400/60000]\n",
            "loss: 0.468636  [51200/60000]\n",
            "Train Error: \n",
            " Accuracy: 85.8%, Avg loss: 0.401702 \n",
            "\n",
            "Test Error: \n",
            " Accuracy: 83.1%, Avg loss: 0.466441 \n",
            "\n",
            "Epoch 9\n",
            "-------------------------------\n",
            "loss: 0.474753  [    0/60000]\n",
            "loss: 0.267022  [12800/60000]\n",
            "loss: 0.257970  [25600/60000]\n",
            "loss: 0.476776  [38400/60000]\n",
            "loss: 0.462374  [51200/60000]\n",
            "Train Error: \n",
            " Accuracy: 86.1%, Avg loss: 0.390784 \n",
            "\n",
            "Test Error: \n",
            " Accuracy: 83.3%, Avg loss: 0.460988 \n",
            "\n",
            "Epoch 10\n",
            "-------------------------------\n",
            "loss: 0.475654  [    0/60000]\n",
            "loss: 0.250081  [12800/60000]\n",
            "loss: 0.245510  [25600/60000]\n",
            "loss: 0.464136  [38400/60000]\n",
            "loss: 0.458724  [51200/60000]\n",
            "Train Error: \n",
            " Accuracy: 86.4%, Avg loss: 0.381431 \n",
            "\n",
            "Test Error: \n",
            " Accuracy: 83.5%, Avg loss: 0.455704 \n",
            "\n",
            "Done!\n"
          ]
        }
      ]
    },
    {
      "cell_type": "code",
      "source": [
        "# saving\n",
        "torch.save(network, 'network.pth')"
      ],
      "metadata": {
        "id": "mok5wTseMG3B"
      },
      "execution_count": null,
      "outputs": []
    },
    {
      "cell_type": "markdown",
      "source": [
        "## Part D"
      ],
      "metadata": {
        "id": "pTEvvIm8QrcA"
      }
    },
    {
      "cell_type": "code",
      "source": [
        "test_loop(test_dataloader, network, Cross_Entropy)"
      ],
      "metadata": {
        "colab": {
          "base_uri": "https://localhost:8080/"
        },
        "id": "YlSgIEuHQulT",
        "outputId": "8b59ad54-73f6-44f9-99c1-8cfbc5554872"
      },
      "execution_count": null,
      "outputs": [
        {
          "output_type": "stream",
          "name": "stdout",
          "text": [
            "Test Error: \n",
            " Accuracy: 83.5%, Avg loss: 0.455704 \n",
            "\n"
          ]
        }
      ]
    },
    {
      "cell_type": "code",
      "source": [
        "plt.figure(figsize=(12, 12))\n",
        "for i in range(9):\n",
        "  index = torch.randint(len(test_data), (1,))[0]\n",
        "  img, label = test_data[index]\n",
        "  plt.subplot(3, 3, i+1)\n",
        "  plt.imshow(img.squeeze(), cmap=\"gray\")\n",
        "  true_label = test_data.targets[index]\n",
        "  true_class = test_data.classes[true_label]\n",
        "  predicted_label = network.model(test_data.data[index]).argmax()\n",
        "  predicted_class = test_data.classes[predicted_label]\n",
        "  plt.title(f\"True Label: {true_label} - {true_class} \\n Predicted Label: {predicted_label} - {predicted_class}\")\n",
        "  plt.axis(False)\n",
        "plt.show()"
      ],
      "metadata": {
        "colab": {
          "base_uri": "https://localhost:8080/",
          "height": 714
        },
        "id": "YKI611ZUSGl_",
        "outputId": "2fc86868-56bb-470d-8b5a-0e4078c44193"
      },
      "execution_count": null,
      "outputs": [
        {
          "output_type": "display_data",
          "data": {
            "text/plain": [
              "<Figure size 864x864 with 9 Axes>"
            ],
            "image/png": "[encoded data removed]"
          },
          "metadata": {
            "needs_background": "light"
          }
        }
      ]
    }
  ]
}